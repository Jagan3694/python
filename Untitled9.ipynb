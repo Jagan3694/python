{
 "cells": [
  {
   "cell_type": "markdown",
   "id": "a2e680a1",
   "metadata": {},
   "source": [
    "# Loops "
   ]
  },
  {
   "cell_type": "code",
   "execution_count": 1,
   "id": "7bb575c2",
   "metadata": {},
   "outputs": [],
   "source": [
    "#if / else condition"
   ]
  },
  {
   "cell_type": "code",
   "execution_count": 3,
   "id": "518dcdb9",
   "metadata": {},
   "outputs": [],
   "source": [
    "name = \"kiran\"\n",
    "mark = 50"
   ]
  },
  {
   "cell_type": "code",
   "execution_count": 5,
   "id": "b3e2b11b",
   "metadata": {},
   "outputs": [
    {
     "name": "stdout",
     "output_type": "stream",
     "text": [
      "yes\n"
     ]
    }
   ],
   "source": [
    "if name == \"kiran\" and mark== 50:\n",
    "    print (\"yes\")\n",
    "else:\n",
    "    print(\"no\")\n",
    "    "
   ]
  },
  {
   "cell_type": "code",
   "execution_count": 6,
   "id": "d0ae570a",
   "metadata": {},
   "outputs": [],
   "source": [
    "name=\"kiran\"\n",
    "mark=60"
   ]
  },
  {
   "cell_type": "code",
   "execution_count": 14,
   "id": "9260937e",
   "metadata": {},
   "outputs": [
    {
     "name": "stdout",
     "output_type": "stream",
     "text": [
      "first class\n",
      "pass\n"
     ]
    }
   ],
   "source": [
    "\n",
    "name=\"kiran\"\n",
    "mark=85\n",
    "\n",
    "if name==\"kiran\":\n",
    "    if mark > 80:\n",
    "        print (\"first class\")\n",
    "    if mark >= 50:\n",
    "        print (\"pass\")\n",
    "    else:\n",
    "        print(\"fail\")\n",
    "else:\n",
    "    print(\"name is not kiran\")"
   ]
  },
  {
   "cell_type": "code",
   "execution_count": 19,
   "id": "bf0bae1d",
   "metadata": {},
   "outputs": [
    {
     "name": "stdout",
     "output_type": "stream",
     "text": [
      "name is not kiran\n"
     ]
    }
   ],
   "source": [
    "# elif  condition\n",
    "name = \"kiran\"\n",
    "mark = 50\n",
    "\n",
    "if name ==\"kira\":\n",
    "    if mark>80: # \n",
    "        print(\"first class\")\n",
    "    elif mark >= 90 and mark <= 86: # \n",
    "        print(\"pass\")\n",
    "    else:\n",
    "        print(\"fail\")\n",
    "else:\n",
    "    print(\"name is not kiran\")\n",
    "        "
   ]
  },
  {
   "cell_type": "code",
   "execution_count": 23,
   "id": "f202155d",
   "metadata": {},
   "outputs": [
    {
     "name": "stdout",
     "output_type": "stream",
     "text": [
      "1\n",
      "2\n",
      "3\n",
      "4\n",
      "5\n",
      "6\n",
      "7\n"
     ]
    }
   ],
   "source": [
    "# while loop\n",
    "a=1\n",
    "while a<8:\n",
    "    print(a)\n",
    "    a=a+1"
   ]
  },
  {
   "cell_type": "code",
   "execution_count": 5,
   "id": "c936b48f",
   "metadata": {},
   "outputs": [
    {
     "ename": "SyntaxError",
     "evalue": "invalid syntax (2794431119.py, line 5)",
     "output_type": "error",
     "traceback": [
      "\u001b[1;36m  File \u001b[1;32m\"C:\\Users\\selva\\AppData\\Local\\Temp\\ipykernel_17832\\2794431119.py\"\u001b[1;36m, line \u001b[1;32m5\u001b[0m\n\u001b[1;33m    if signal==\"red\"\u001b[0m\n\u001b[1;37m                    ^\u001b[0m\n\u001b[1;31mSyntaxError\u001b[0m\u001b[1;31m:\u001b[0m invalid syntax\n"
     ]
    }
   ],
   "source": [
    "# assingnment\n",
    "police=\"yes\"\n",
    "signal=\"red\"\n",
    "if police==\"yes\":\n",
    "    if signal==\"red\"\n",
    "    print(stop)\n",
    "  "
   ]
  },
  {
   "cell_type": "code",
   "execution_count": null,
   "id": "cbd1b96a",
   "metadata": {},
   "outputs": [],
   "source": []
  }
 ],
 "metadata": {
  "kernelspec": {
   "display_name": "Python 3 (ipykernel)",
   "language": "python",
   "name": "python3"
  },
  "language_info": {
   "codemirror_mode": {
    "name": "ipython",
    "version": 3
   },
   "file_extension": ".py",
   "mimetype": "text/x-python",
   "name": "python",
   "nbconvert_exporter": "python",
   "pygments_lexer": "ipython3",
   "version": "3.9.13"
  }
 },
 "nbformat": 4,
 "nbformat_minor": 5
}
